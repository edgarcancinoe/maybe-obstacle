{
 "cells": [
  {
   "cell_type": "markdown",
   "id": "044aa663",
   "metadata": {},
   "source": [
    "# Uncertainty-Aware Road Obstacle Identification"
   ]
  },
  {
   "cell_type": "markdown",
   "id": "e16c6661",
   "metadata": {},
   "source": [
    "## 1. Imports\n",
    "Import necessary libraries like PyTorch, torchvision, etc."
   ]
  },
  {
   "cell_type": "code",
   "execution_count": 4,
   "id": "5fe48609",
   "metadata": {},
   "outputs": [
    {
     "ename": "ModuleNotFoundError",
     "evalue": "No module named 'torchvision'",
     "output_type": "error",
     "traceback": [
      "\u001b[1;31m---------------------------------------------------------------------------\u001b[0m",
      "\u001b[1;31mModuleNotFoundError\u001b[0m                       Traceback (most recent call last)",
      "Cell \u001b[1;32mIn[4], line 4\u001b[0m\n\u001b[0;32m      2\u001b[0m \u001b[38;5;28;01mimport\u001b[39;00m \u001b[38;5;21;01mtorch\u001b[39;00m\u001b[38;5;21;01m.\u001b[39;00m\u001b[38;5;21;01mnn\u001b[39;00m \u001b[38;5;28;01mas\u001b[39;00m \u001b[38;5;21;01mnn\u001b[39;00m\n\u001b[0;32m      3\u001b[0m \u001b[38;5;28;01mimport\u001b[39;00m \u001b[38;5;21;01mtorch\u001b[39;00m\u001b[38;5;21;01m.\u001b[39;00m\u001b[38;5;21;01moptim\u001b[39;00m \u001b[38;5;28;01mas\u001b[39;00m \u001b[38;5;21;01moptim\u001b[39;00m\n\u001b[1;32m----> 4\u001b[0m \u001b[38;5;28;01mimport\u001b[39;00m \u001b[38;5;21;01mtorchvision\u001b[39;00m\n\u001b[0;32m      5\u001b[0m \u001b[38;5;28;01mimport\u001b[39;00m \u001b[38;5;21;01mtorchvision\u001b[39;00m\u001b[38;5;21;01m.\u001b[39;00m\u001b[38;5;21;01mtransforms\u001b[39;00m \u001b[38;5;28;01mas\u001b[39;00m \u001b[38;5;21;01mtransforms\u001b[39;00m\n\u001b[0;32m      6\u001b[0m \u001b[38;5;28;01mfrom\u001b[39;00m \u001b[38;5;21;01mtorch\u001b[39;00m\u001b[38;5;21;01m.\u001b[39;00m\u001b[38;5;21;01mutils\u001b[39;00m\u001b[38;5;21;01m.\u001b[39;00m\u001b[38;5;21;01mdata\u001b[39;00m \u001b[38;5;28;01mimport\u001b[39;00m DataLoader\n",
      "\u001b[1;31mModuleNotFoundError\u001b[0m: No module named 'torchvision'"
     ]
    }
   ],
   "source": [
    "import torch\n",
    "import torch.nn as nn\n",
    "import torch.optim as optim\n",
    "import torchvision\n",
    "import torchvision.transforms as transforms\n",
    "from torch.utils.data import DataLoader\n",
    "import numpy as np\n",
    "import matplotlib.pyplot as plt"
   ]
  },
  {
   "cell_type": "markdown",
   "id": "6da946b4",
   "metadata": {},
   "source": [
    "## 2. Globals\n",
    "Define global variables such as paths, batch size, learning rate, etc."
   ]
  },
  {
   "cell_type": "code",
   "execution_count": null,
   "id": "2556745f",
   "metadata": {},
   "outputs": [],
   "source": [
    "# Global variables\n",
    "DATASET_PATH = \"./datasets/\"\n",
    "BATCH_SIZE = 32\n",
    "LEARNING_RATE = 0.001\n",
    "EPOCHS = 50\n",
    "\n",
    "# Select the best available device (CPU, CUDA, or MPS (Metal Performance Shaders for macOS))\n",
    "if torch.cuda.is_available():\n",
    "    device = torch.device(\"cuda\")\n",
    "    print(f\"Using CUDA device: {torch.cuda.get_device_name(0)}\")\n",
    "elif torch.backends.mps.is_available():\n",
    "    device = torch.device(\"mps\")\n",
    "    print(\"Using MPS (Metal Performance Shaders) device\")\n",
    "else:\n",
    "    device = torch.device(\"cpu\")\n",
    "    print(\"Using CPU\")\n",
    "DEVICE = device"
   ]
  },
  {
   "cell_type": "markdown",
   "id": "bfa362e7",
   "metadata": {},
   "source": [
    "## 3. Utils\n",
    "Helper functions for visualization, preprocessing, and more."
   ]
  },
  {
   "cell_type": "code",
   "execution_count": null,
   "id": "be5ae29f",
   "metadata": {},
   "outputs": [],
   "source": [
    "\n",
    "def visualize_sample(image, mask):\n",
    "    plt.figure(figsize=(10, 5))\n",
    "    plt.subplot(1, 2, 1)\n",
    "    plt.title(\"Image\")\n",
    "    plt.imshow(image)\n",
    "    plt.subplot(1, 2, 2)\n",
    "    plt.title(\"Mask\")\n",
    "    plt.imshow(mask)\n",
    "    plt.show()\n"
   ]
  },
  {
   "cell_type": "markdown",
   "id": "0d8ba0e1",
   "metadata": {},
   "source": [
    "## 4. Data\n",
    "Load and preprocess datasets like Cityscapes, LostAndFound, and Fishyscapes."
   ]
  },
  {
   "cell_type": "code",
   "execution_count": null,
   "id": "b06c9692",
   "metadata": {},
   "outputs": [],
   "source": [
    "# Code for data loading and preprocessing"
   ]
  },
  {
   "cell_type": "markdown",
   "id": "e70ceb8f",
   "metadata": {},
   "source": [
    "## 5. Network\n",
    "Define the neural network architecture for semantic segmentation."
   ]
  },
  {
   "cell_type": "code",
   "execution_count": null,
   "id": "9f5edcde",
   "metadata": {},
   "outputs": [],
   "source": [
    "# Define the model architecture here\n",
    "\n",
    "# Lets replicate the Unknown Objectness Scores setup\n",
    "\n",
    "# Load a pretrained DeepLabv3 model with a ResNet-50 backbone\n",
    "model = models.segmentation.deeplabv3_resnet50(pretrained=True)\n",
    "model.eval()  # Set the model to evaluation mode\n"
   ]
  },
  {
   "cell_type": "markdown",
   "id": "e08b2d10",
   "metadata": {},
   "source": [
    "## 6. Train\n",
    "Implement the training loop, including loss functions and optimizers."
   ]
  },
  {
   "cell_type": "code",
   "execution_count": null,
   "id": "ec0ca15c",
   "metadata": {},
   "outputs": [],
   "source": [
    "# Training loop and loss computation"
   ]
  },
  {
   "cell_type": "markdown",
   "id": "db0f6366",
   "metadata": {},
   "source": [
    "## 7. Test\n",
    "Test the trained model and evaluate performance metrics."
   ]
  },
  {
   "cell_type": "code",
   "execution_count": 3,
   "id": "def3d94b",
   "metadata": {},
   "outputs": [],
   "source": [
    "# Evaluation metrics and performance analysis"
   ]
  }
 ],
 "metadata": {
  "kernelspec": {
   "display_name": "base",
   "language": "python",
   "name": "python3"
  },
  "language_info": {
   "codemirror_mode": {
    "name": "ipython",
    "version": 3
   },
   "file_extension": ".py",
   "mimetype": "text/x-python",
   "name": "python",
   "nbconvert_exporter": "python",
   "pygments_lexer": "ipython3",
   "version": "3.12.4"
  }
 },
 "nbformat": 4,
 "nbformat_minor": 5
}
